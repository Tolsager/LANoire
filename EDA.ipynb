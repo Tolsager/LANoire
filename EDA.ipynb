{
 "cells": [
  {
   "cell_type": "code",
   "execution_count": 1,
   "metadata": {},
   "outputs": [],
   "source": [
    "import pandas as pd\n",
    "import librosa\n",
    "from LANoire.dataset import get_data_split_ids, LANoireIndexDataset"
   ]
  },
  {
   "cell_type": "code",
   "execution_count": 2,
   "metadata": {},
   "outputs": [
    {
     "data": {
      "text/html": [
       "<div>\n",
       "<style scoped>\n",
       "    .dataframe tbody tr th:only-of-type {\n",
       "        vertical-align: middle;\n",
       "    }\n",
       "\n",
       "    .dataframe tbody tr th {\n",
       "        vertical-align: top;\n",
       "    }\n",
       "\n",
       "    .dataframe thead th {\n",
       "        text-align: right;\n",
       "    }\n",
       "</style>\n",
       "<table border=\"1\" class=\"dataframe\">\n",
       "  <thead>\n",
       "    <tr style=\"text-align: right;\">\n",
       "      <th></th>\n",
       "      <th>cases</th>\n",
       "      <th>subjects</th>\n",
       "      <th>questions</th>\n",
       "      <th>answers</th>\n",
       "    </tr>\n",
       "  </thead>\n",
       "  <tbody>\n",
       "    <tr>\n",
       "      <th>0</th>\n",
       "      <td>{'16_the_naked_city': {'id': 16, 'chapter id':...</td>\n",
       "      <td>{'virginia_reynoldson': {'id': 1, 'case id': 1...</td>\n",
       "      <td>{'q1': {'id': 1, 'subject id': 1, 'subject nam...</td>\n",
       "      <td>{'a1': {'id': 1, 'subject id': 1, 'question id...</td>\n",
       "    </tr>\n",
       "  </tbody>\n",
       "</table>\n",
       "</div>"
      ],
      "text/plain": [
       "                                               cases  \\\n",
       "0  {'16_the_naked_city': {'id': 16, 'chapter id':...   \n",
       "\n",
       "                                            subjects  \\\n",
       "0  {'virginia_reynoldson': {'id': 1, 'case id': 1...   \n",
       "\n",
       "                                           questions  \\\n",
       "0  {'q1': {'id': 1, 'subject id': 1, 'subject nam...   \n",
       "\n",
       "                                             answers  \n",
       "0  {'a1': {'id': 1, 'subject id': 1, 'question id...  "
      ]
     },
     "execution_count": 2,
     "metadata": {},
     "output_type": "execute_result"
    }
   ],
   "source": [
    "df = pd.read_json(\"data/raw/data.json\")\n",
    "df.head()"
   ]
  },
  {
   "cell_type": "code",
   "execution_count": 3,
   "metadata": {},
   "outputs": [],
   "source": [
    "cases = df[\"cases\"][0]\n",
    "subjects = df[\"subjects\"][0]\n",
    "questions = df[\"questions\"][0]\n",
    "answers = df[\"answers\"][0]"
   ]
  },
  {
   "cell_type": "code",
   "execution_count": 24,
   "metadata": {},
   "outputs": [
    {
     "data": {
      "text/plain": [
       "['16_the_naked_city',\n",
       " '8_the_golden_butterfly',\n",
       " '13_the_black_ceasar',\n",
       " '17_manifest_destiny',\n",
       " '15_the_set_up',\n",
       " '14_reefer_madness',\n",
       " '6_the_fallen_idol',\n",
       " '18_the_gas_man',\n",
       " '3_the_consuls_car',\n",
       " '5_a_slip_of_tongue',\n",
       " '10_the_white_shoe_slaying',\n",
       " '1_buyers_beware',\n",
       " '7_the_lipstick_murder',\n",
       " '20_house_of_sticks',\n",
       " '2_the_drivers_seat',\n",
       " '4_a_marriage_made_in_heaven',\n",
       " '9_the_silk_stocking_murder',\n",
       " '21_a_polite_invitation',\n",
       " '19_a_walk_in_elysian_fields',\n",
       " '11_the_studio_secretary_murder',\n",
       " '22_nicholson_electroplating']"
      ]
     },
     "execution_count": 24,
     "metadata": {},
     "output_type": "execute_result"
    }
   ],
   "source": [
    "list(cases.keys())"
   ]
  },
  {
   "cell_type": "code",
   "execution_count": 22,
   "metadata": {},
   "outputs": [
    {
     "data": {
      "text/plain": [
       "{'id': 16,\n",
       " 'chapter id': 1,\n",
       " 'folder': '/work3/s213233/thesis/dataset/16_the_naked_city',\n",
       " 'name': '16_the_naked_city',\n",
       " 'subjects': ['virginia_reynoldson',\n",
       "  'dassine_store_owner',\n",
       "  'heather_swanson',\n",
       "  'dr_stoneman',\n",
       "  'henry_arnett',\n",
       "  'beverly_everstrom'],\n",
       " 'clues': ''}"
      ]
     },
     "execution_count": 22,
     "metadata": {},
     "output_type": "execute_result"
    }
   ],
   "source": [
    "cases[\"16_the_naked_city\"]"
   ]
  },
  {
   "cell_type": "code",
   "execution_count": 32,
   "metadata": {},
   "outputs": [
    {
     "data": {
      "text/plain": [
       "['virginia_reynoldson',\n",
       " 'dassine_store_owner',\n",
       " 'heather_swanson',\n",
       " 'dr_stoneman',\n",
       " 'henry_arnett']"
      ]
     },
     "execution_count": 32,
     "metadata": {},
     "output_type": "execute_result"
    }
   ],
   "source": [
    "list(subjects.keys())[:5]"
   ]
  },
  {
   "cell_type": "code",
   "execution_count": 33,
   "metadata": {},
   "outputs": [
    {
     "data": {
      "text/plain": [
       "{'id': 1,\n",
       " 'case id': 16,\n",
       " 'name': 'virginia_reynoldson',\n",
       " 'sex': 'M',\n",
       " 'questions': ['q1', 'q2', 'q3']}"
      ]
     },
     "execution_count": 33,
     "metadata": {},
     "output_type": "execute_result"
    }
   ],
   "source": [
    "subjects[\"virginia_reynoldson\"]"
   ]
  },
  {
   "cell_type": "code",
   "execution_count": 31,
   "metadata": {},
   "outputs": [
    {
     "data": {
      "text/plain": [
       "['q1', 'q2', 'q3', 'q5', 'q7']"
      ]
     },
     "execution_count": 31,
     "metadata": {},
     "output_type": "execute_result"
    }
   ],
   "source": [
    "list(questions.keys())[:5]"
   ]
  },
  {
   "cell_type": "code",
   "execution_count": 28,
   "metadata": {},
   "outputs": [
    {
     "data": {
      "text/plain": [
       "{'id': 1,\n",
       " 'subject id': 1,\n",
       " 'subject name': 'virginia_reynoldson',\n",
       " 'name': 'q2',\n",
       " 'duration': 4.048979591836734,\n",
       " 'text': 'Did Miss Randall have many friends, is it? ',\n",
       " 'text file': '/work3/s213233/thesis/dataset/16_the_naked_city/virginia_reynoldson/q2/transcript/virginia_reynoldson_question_2.txt',\n",
       " 'audio file': '/work3/s213233/thesis/dataset/16_the_naked_city/virginia_reynoldson/q2/virginia_reynoldson_question_2.mp3',\n",
       " 'spectrogram': '/work3/s213233/thesis/dataset/16_the_naked_city/virginia_reynoldson/q2/transcript/virginia_reynoldson_question_2_mel.npy',\n",
       " 'answers': ['a1', 'a2', 'a3', 'a4']}"
      ]
     },
     "execution_count": 28,
     "metadata": {},
     "output_type": "execute_result"
    }
   ],
   "source": [
    "questions[\"q1\"]"
   ]
  },
  {
   "cell_type": "code",
   "execution_count": 30,
   "metadata": {},
   "outputs": [
    {
     "data": {
      "text/plain": [
       "['a1', 'a2', 'a3', 'a4', 'a5']"
      ]
     },
     "execution_count": 30,
     "metadata": {},
     "output_type": "execute_result"
    }
   ],
   "source": [
    "list(answers.keys())[:5]"
   ]
  },
  {
   "cell_type": "code",
   "execution_count": 34,
   "metadata": {},
   "outputs": [
    {
     "data": {
      "text/plain": [
       "{'id': 1,\n",
       " 'subject id': 1,\n",
       " 'question id': 1,\n",
       " 'name': 'virginia_reynoldson_lie_2.mp3',\n",
       " 'duration': 4.048979591836734,\n",
       " 'class': 'lie',\n",
       " 'text': \"I'm not sure. I only come around twice a week. \",\n",
       " 'text file': '/work3/s213233/thesis/dataset/16_the_naked_city/virginia_reynoldson/q2/transcript/virginia_reynoldson_lie_2.txt',\n",
       " 'audio file': '/work3/s213233/thesis/dataset/16_the_naked_city/virginia_reynoldson/q2/virginia_reynoldson_lie_2.mp3',\n",
       " 'spectrogram': '/work3/s213233/thesis/dataset/16_the_naked_city/virginia_reynoldson/q2/transcript/virginia_reynoldson_lie_2_mel.npy',\n",
       " 'image prefix': '/work3/s213233/thesis/dataset/16_the_naked_city/virginia_reynoldson/q2/original/virginia_reynoldson_lie_2',\n",
       " 'bounding boxes': '/work3/s213233/thesis/dataset/16_the_naked_city/virginia_reynoldson/q2/retina/virginia_reynoldson_lie_2'}"
      ]
     },
     "execution_count": 34,
     "metadata": {},
     "output_type": "execute_result"
    }
   ],
   "source": [
    "answers[\"a1\"]"
   ]
  },
  {
   "cell_type": "code",
   "execution_count": 35,
   "metadata": {},
   "outputs": [
    {
     "data": {
      "text/plain": [
       "650"
      ]
     },
     "execution_count": 35,
     "metadata": {},
     "output_type": "execute_result"
    }
   ],
   "source": [
    "len(answers)"
   ]
  },
  {
   "cell_type": "markdown",
   "metadata": {},
   "source": [
    "# Audio"
   ]
  },
  {
   "cell_type": "code",
   "execution_count": 41,
   "metadata": {},
   "outputs": [],
   "source": [
    "answer_audio, sr = librosa.load(\"data/raw/1_buyers_beware/clovis_galletta/q1/clovis_galletta_lie_0.mp3\", sr=None)"
   ]
  },
  {
   "cell_type": "code",
   "execution_count": 42,
   "metadata": {},
   "outputs": [
    {
     "data": {
      "text/plain": [
       "44100"
      ]
     },
     "execution_count": 42,
     "metadata": {},
     "output_type": "execute_result"
    }
   ],
   "source": [
    "sr"
   ]
  },
  {
   "cell_type": "markdown",
   "metadata": {},
   "source": [
    "# Data stats"
   ]
  },
  {
   "cell_type": "code",
   "execution_count": 6,
   "metadata": {},
   "outputs": [
    {
     "data": {
      "text/plain": [
       "292"
      ]
     },
     "execution_count": 6,
     "metadata": {},
     "output_type": "execute_result"
    }
   ],
   "source": [
    "import glob\n",
    "\n",
    "n_questions = len(glob.glob(\"data/raw/*/*/q*\"))\n",
    "n_questions"
   ]
  },
  {
   "cell_type": "markdown",
   "metadata": {},
   "source": [
    "# Data splits "
   ]
  },
  {
   "cell_type": "code",
   "execution_count": 3,
   "metadata": {},
   "outputs": [],
   "source": [
    "train_ids, val_ids, test_ids = get_data_split_ids()"
   ]
  },
  {
   "cell_type": "code",
   "execution_count": 4,
   "metadata": {},
   "outputs": [],
   "source": [
    "ds = LANoireIndexDataset()"
   ]
  },
  {
   "cell_type": "code",
   "execution_count": 5,
   "metadata": {},
   "outputs": [],
   "source": [
    "train_labels = [ds[i][1] for i in train_ids]"
   ]
  },
  {
   "cell_type": "code",
   "execution_count": 6,
   "metadata": {},
   "outputs": [
    {
     "data": {
      "text/plain": [
       "np.float32(0.5923077)"
      ]
     },
     "execution_count": 6,
     "metadata": {},
     "output_type": "execute_result"
    }
   ],
   "source": [
    "import numpy as np\n",
    "np.mean(train_labels)"
   ]
  },
  {
   "cell_type": "code",
   "execution_count": 7,
   "metadata": {},
   "outputs": [
    {
     "data": {
      "text/plain": [
       "np.float32(0.6)"
      ]
     },
     "execution_count": 7,
     "metadata": {},
     "output_type": "execute_result"
    }
   ],
   "source": [
    "val_labels = [ds[i][1] for i in val_ids if i != 650]\n",
    "np.mean(val_labels)"
   ]
  },
  {
   "cell_type": "code",
   "execution_count": 21,
   "metadata": {},
   "outputs": [
    {
     "data": {
      "text/plain": [
       "65"
      ]
     },
     "execution_count": 21,
     "metadata": {},
     "output_type": "execute_result"
    }
   ],
   "source": [
    "len(val_labels)"
   ]
  },
  {
   "cell_type": "markdown",
   "metadata": {},
   "source": [
    "# Mispredictions"
   ]
  },
  {
   "cell_type": "code",
   "execution_count": 8,
   "metadata": {},
   "outputs": [],
   "source": [
    "from LANoire.utils import load_pickle\n",
    "err = load_pickle(\"data/processed/whisper_errors.pkl\")"
   ]
  },
  {
   "cell_type": "code",
   "execution_count": 22,
   "metadata": {},
   "outputs": [
    {
     "data": {
      "text/plain": [
       "14"
      ]
     },
     "execution_count": 22,
     "metadata": {},
     "output_type": "execute_result"
    }
   ],
   "source": [
    "len(err)"
   ]
  },
  {
   "cell_type": "code",
   "execution_count": null,
   "metadata": {},
   "outputs": [
    {
     "data": {
      "text/plain": [
       "(tensor(533), tensor(0.))"
      ]
     },
     "execution_count": 14,
     "metadata": {},
     "output_type": "execute_result"
    }
   ],
   "source": [
    "ds[533]"
   ]
  },
  {
   "cell_type": "code",
   "execution_count": 21,
   "metadata": {},
   "outputs": [
    {
     "data": {
      "text/plain": [
       "{'id': 376,\n",
       " 'subject id': 45,\n",
       " 'question id': 208,\n",
       " 'name': 'lars_taraldsen_lie_0.mp3',\n",
       " 'duration': 6.034285714285715,\n",
       " 'class': 'lie',\n",
       " 'text': \"Everyone loved Teresa. She was so full of life. It can't be anyone who knew her. \",\n",
       " 'text file': '/work3/s213233/thesis/dataset/10_the_white_shoe_slaying/lars_taraldsen/q1/transcript/lars_taraldsen_lie_0.txt',\n",
       " 'audio file': '/work3/s213233/thesis/dataset/10_the_white_shoe_slaying/lars_taraldsen/q1/lars_taraldsen_lie_0.mp3',\n",
       " 'spectrogram': '/work3/s213233/thesis/dataset/10_the_white_shoe_slaying/lars_taraldsen/q1/transcript/lars_taraldsen_lie_0_mel.npy',\n",
       " 'image prefix': '/work3/s213233/thesis/dataset/10_the_white_shoe_slaying/lars_taraldsen/q1/original/lars_taraldsen_lie_0',\n",
       " 'bounding boxes': '/work3/s213233/thesis/dataset/10_the_white_shoe_slaying/lars_taraldsen/q1/retina/lars_taraldsen_lie_0'}"
      ]
     },
     "execution_count": 21,
     "metadata": {},
     "output_type": "execute_result"
    }
   ],
   "source": [
    "ds.answers[\"a376\"]"
   ]
  }
 ],
 "metadata": {
  "kernelspec": {
   "display_name": ".venv",
   "language": "python",
   "name": "python3"
  },
  "language_info": {
   "codemirror_mode": {
    "name": "ipython",
    "version": 3
   },
   "file_extension": ".py",
   "mimetype": "text/x-python",
   "name": "python",
   "nbconvert_exporter": "python",
   "pygments_lexer": "ipython3",
   "version": "3.11.5"
  }
 },
 "nbformat": 4,
 "nbformat_minor": 2
}
